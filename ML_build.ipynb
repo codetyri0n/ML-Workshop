{
  "nbformat": 4,
  "nbformat_minor": 0,
  "metadata": {
    "colab": {
      "provenance": [],
      "authorship_tag": "ABX9TyOVQWupzkyAJsSTb4gge4OF"
    },
    "kernelspec": {
      "name": "python3",
      "display_name": "Python 3"
    },
    "language_info": {
      "name": "python"
    }
  },
  "cells": [
    {
      "cell_type": "code",
      "source": [
        "#import the dependencies\n",
        "import tensorflow as tf\n",
        "import pandas as pd\n",
        "import seaborn as sb\n",
        "import numpy as np"
      ],
      "metadata": {
        "id": "McME2YQ--KFs"
      },
      "execution_count": null,
      "outputs": []
    },
    {
      "cell_type": "code",
      "execution_count": null,
      "metadata": {
        "colab": {
          "base_uri": "https://localhost:8080/"
        },
        "id": "yiYXNPwTviCX",
        "outputId": "885240b4-7081-4d4b-e1f8-4d0c2bcbe63a"
      },
      "outputs": [
        {
          "output_type": "stream",
          "name": "stdout",
          "text": [
            "Epoch 1/10\n",
            "1875/1875 [==============================] - 4s 2ms/step - loss: 0.4304 - accuracy: 0.8838\n",
            "Epoch 2/10\n",
            "1875/1875 [==============================] - 4s 2ms/step - loss: 0.2422 - accuracy: 0.9303\n",
            "Epoch 3/10\n",
            "1875/1875 [==============================] - 4s 2ms/step - loss: 0.1947 - accuracy: 0.9444\n",
            "Epoch 4/10\n",
            "1875/1875 [==============================] - 4s 2ms/step - loss: 0.1651 - accuracy: 0.9526\n",
            "Epoch 5/10\n",
            "1875/1875 [==============================] - 4s 2ms/step - loss: 0.1430 - accuracy: 0.9584\n",
            "Epoch 6/10\n",
            "1875/1875 [==============================] - 4s 2ms/step - loss: 0.1266 - accuracy: 0.9631\n",
            "Epoch 7/10\n",
            "1875/1875 [==============================] - 6s 3ms/step - loss: 0.1133 - accuracy: 0.9666\n",
            "Epoch 8/10\n",
            "1875/1875 [==============================] - 4s 2ms/step - loss: 0.1027 - accuracy: 0.9694\n",
            "Epoch 9/10\n",
            "1875/1875 [==============================] - 4s 2ms/step - loss: 0.0939 - accuracy: 0.9719\n",
            "Epoch 10/10\n",
            "1875/1875 [==============================] - 5s 2ms/step - loss: 0.0864 - accuracy: 0.9743\n"
          ]
        },
        {
          "output_type": "execute_result",
          "data": {
            "text/plain": [
              "<keras.src.callbacks.History at 0x7d2e04e576a0>"
            ]
          },
          "metadata": {},
          "execution_count": 5
        }
      ],
      "source": [
        "#load the training and test datasets\n",
        "(x_train,y_train), (x_test,y_test) = tf.keras.datasets.mnist.load_data()\n",
        "\n",
        "#normalising the data\n",
        "x_train = tf.keras.utils.normalize(x_train,axis=1)\n",
        "x_test = tf.keras.utils.normalize(x_test,axis=1)\n",
        "\n",
        "\n",
        "#buliding the model\n",
        "model = tf.keras.models.Sequential([\n",
        "    tf.keras.layers.Flatten(input_shape=(28,28)),\n",
        "    tf.keras.layers.Dense(32,activation='relu'),\n",
        "    tf.keras.layers.Dense(10,activation='softmax')\n",
        "])\n",
        "\n",
        "#compile the model\n",
        "model.compile(\n",
        "    optimizer='adam',\n",
        "    loss=tf.keras.losses.sparse_categorical_crossentropy,\n",
        "    metrics=['accuracy'],\n",
        ")\n",
        "\n",
        "#train the model\n",
        "model.fit(x_train,y_train,epochs=10)\n"
      ]
    },
    {
      "cell_type": "code",
      "source": [
        "#evaluate the model test_loss,\n",
        "ax,loss_accuracy=model.evaluate(x_test,y_test)\n",
        "\n",
        "#print accuracy\n",
        "print(\"Test accuracy:\",loss_accuracy*100,\"%\")"
      ],
      "metadata": {
        "colab": {
          "base_uri": "https://localhost:8080/"
        },
        "id": "ESNla2lM5z-y",
        "outputId": "e224b975-3d70-4e40-a968-256f5824cf70"
      },
      "execution_count": null,
      "outputs": [
        {
          "output_type": "stream",
          "name": "stdout",
          "text": [
            "313/313 [==============================] - 1s 2ms/step - loss: 0.1843 - accuracy: 0.9457\n",
            "Test accuracy: 94.56999897956848 %\n"
          ]
        }
      ]
    },
    {
      "cell_type": "code",
      "source": [],
      "metadata": {
        "id": "Prwm1ueD-l1b"
      },
      "execution_count": null,
      "outputs": []
    }
  ]
}